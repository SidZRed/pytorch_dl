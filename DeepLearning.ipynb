{
  "nbformat": 4,
  "nbformat_minor": 0,
  "metadata": {
    "colab": {
      "provenance": [],
      "collapsed_sections": [
        "XiJZcvoUvNqR"
      ],
      "authorship_tag": "ABX9TyNnM4pV/Eq0JP2xWZy9A11A",
      "include_colab_link": true
    },
    "kernelspec": {
      "name": "python3",
      "display_name": "Python 3"
    },
    "language_info": {
      "name": "python"
    }
  },
  "cells": [
    {
      "cell_type": "markdown",
      "metadata": {
        "id": "view-in-github",
        "colab_type": "text"
      },
      "source": [
        "<a href=\"https://colab.research.google.com/github/SidZRed/pytorch_dl/blob/main/DeepLearning.ipynb\" target=\"_parent\"><img src=\"https://colab.research.google.com/assets/colab-badge.svg\" alt=\"Open In Colab\"/></a>"
      ]
    },
    {
      "cell_type": "markdown",
      "source": [
        "# Deep Learning - SidZRed"
      ],
      "metadata": {
        "id": "vM7PU-kCui0k"
      }
    },
    {
      "cell_type": "markdown",
      "source": [
        "# Setting up pytorch\n"
      ],
      "metadata": {
        "id": "XiJZcvoUvNqR"
      }
    },
    {
      "cell_type": "code",
      "source": [
        "import torch\n",
        "import pandas as pd\n",
        "import numpy as np\n",
        "import matplotlib.pyplot as plt\n",
        "print(torch.__version__)"
      ],
      "metadata": {
        "colab": {
          "base_uri": "https://localhost:8080/"
        },
        "id": "O4z6iLU4u3N7",
        "outputId": "9630c1d6-df57-4ea3-8952-99bfae003797"
      },
      "execution_count": 6,
      "outputs": [
        {
          "output_type": "stream",
          "name": "stdout",
          "text": [
            "2.1.0+cu118\n"
          ]
        }
      ]
    },
    {
      "cell_type": "markdown",
      "source": [],
      "metadata": {
        "id": "XSv0YjxrvgKQ"
      }
    },
    {
      "cell_type": "markdown",
      "source": [
        "# *Tensors*"
      ],
      "metadata": {
        "id": "8EzRU4Xrvhdr"
      }
    },
    {
      "cell_type": "markdown",
      "source": [
        "**Scalars**"
      ],
      "metadata": {
        "id": "PiYBWdOovsTJ"
      }
    },
    {
      "cell_type": "code",
      "source": [
        "scalar = torch.tensor(5)\n",
        "print(scalar)\n",
        "print(scalar.ndim)\n",
        "print(scalar.item())\n"
      ],
      "metadata": {
        "colab": {
          "base_uri": "https://localhost:8080/"
        },
        "id": "50pEaHQfvu4n",
        "outputId": "cfd15713-66c0-4880-e380-34b874ca4740"
      },
      "execution_count": 8,
      "outputs": [
        {
          "output_type": "stream",
          "name": "stdout",
          "text": [
            "tensor(5)\n",
            "0\n",
            "5\n"
          ]
        }
      ]
    },
    {
      "cell_type": "markdown",
      "source": [
        "**Vector**"
      ],
      "metadata": {
        "id": "aPmdtPr7wm8X"
      }
    },
    {
      "cell_type": "code",
      "source": [
        "vector = torch.tensor([4,5])\n",
        "print(vector)\n",
        "print(vector.ndim)\n",
        "print(vector.shape)"
      ],
      "metadata": {
        "colab": {
          "base_uri": "https://localhost:8080/"
        },
        "id": "PltTNu1pwpYH",
        "outputId": "517f0295-e775-4d65-a666-16368aec3045"
      },
      "execution_count": 11,
      "outputs": [
        {
          "output_type": "stream",
          "name": "stdout",
          "text": [
            "tensor([4, 5])\n",
            "1\n",
            "torch.Size([2])\n"
          ]
        }
      ]
    },
    {
      "cell_type": "markdown",
      "source": [
        "**Matrix**"
      ],
      "metadata": {
        "id": "9bDKVAfHxEPP"
      }
    },
    {
      "cell_type": "code",
      "source": [
        "matrix = torch.tensor([[1,2,3],\n",
        "                      [3,4,3],\n",
        "                       [4,5,6]])\n",
        "print(matrix)\n",
        "print(matrix.ndim)\n",
        "print(matrix.shape)"
      ],
      "metadata": {
        "colab": {
          "base_uri": "https://localhost:8080/"
        },
        "id": "jFhLiNvhw5WV",
        "outputId": "b0c5aef3-c9a2-4b63-e046-9dfe9845155a"
      },
      "execution_count": 14,
      "outputs": [
        {
          "output_type": "stream",
          "name": "stdout",
          "text": [
            "tensor([[1, 2, 3],\n",
            "        [3, 4, 3],\n",
            "        [4, 5, 6]])\n",
            "2\n",
            "torch.Size([3, 3])\n"
          ]
        }
      ]
    },
    {
      "cell_type": "markdown",
      "source": [
        "**Tensor**"
      ],
      "metadata": {
        "id": "LDme1HJ7xomx"
      }
    },
    {
      "cell_type": "code",
      "source": [
        "Tensor = torch.tensor([[[\n",
        "    [1,2,3],[4,5,6],[7,8,9]\n",
        "]]])\n",
        "print(Tensor)\n",
        "print(Tensor.ndim)\n",
        "print(Tensor.shape)"
      ],
      "metadata": {
        "colab": {
          "base_uri": "https://localhost:8080/"
        },
        "id": "Py6ju-xExk7c",
        "outputId": "8cde0f8e-59b3-4346-c82b-e08869b7bb65"
      },
      "execution_count": 15,
      "outputs": [
        {
          "output_type": "stream",
          "name": "stdout",
          "text": [
            "tensor([[[[1, 2, 3],\n",
            "          [4, 5, 6],\n",
            "          [7, 8, 9]]]])\n",
            "4\n",
            "torch.Size([1, 1, 3, 3])\n"
          ]
        }
      ]
    },
    {
      "cell_type": "code",
      "source": [],
      "metadata": {
        "id": "-9DSrsi3x5L1"
      },
      "execution_count": null,
      "outputs": []
    }
  ]
}